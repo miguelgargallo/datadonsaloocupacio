{
 "cells": [
  {
   "cell_type": "markdown",
   "id": "77cb1bd5",
   "metadata": {},
   "source": [
    "Introduccion: Datos de entrada -> Parametros"
   ]
  },
  {
   "cell_type": "code",
   "execution_count": null,
   "id": "9325011b",
   "metadata": {
    "vscode": {
     "languageId": "plaintext"
    }
   },
   "outputs": [],
   "source": [
    "import pandas as pd"
   ]
  },
  {
   "cell_type": "markdown",
   "id": "cd43f6f0",
   "metadata": {},
   "source": []
  }
 ],
 "metadata": {
  "language_info": {
   "name": "python"
  }
 },
 "nbformat": 4,
 "nbformat_minor": 5
}
