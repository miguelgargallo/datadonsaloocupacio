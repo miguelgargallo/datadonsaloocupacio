{
 "cells": [
  {
   "cell_type": "markdown",
   "metadata": {
    "id": "I4o9LQ3S6cg2"
   },
   "source": [
    "Import necessary modules for cleaning and visualitation"
   ]
  },
  {
   "cell_type": "markdown",
   "metadata": {
    "id": "rvx-TcEdUkwI"
   },
   "source": []
  },
  {
   "cell_type": "code",
   "metadata": {
    "id": "6c4G9BX92YTn",
    "ExecuteTime": {
     "end_time": "2025-10-15T16:41:05.988940Z",
     "start_time": "2025-10-15T16:41:05.986546Z"
    }
   },
   "source": [
    "import pandas as pd\n",
    "import numpy as np\n",
    "import matplotlib.pyplot as plt\n",
    "import seaborn as sns"
   ],
   "outputs": [],
   "execution_count": 51
  },
  {
   "cell_type": "markdown",
   "metadata": {
    "id": "GLdUV7Lu6qD1"
   },
   "source": [
    "Import water cosumption database from the first link provided from Aigües de Barcelona"
   ]
  },
  {
   "cell_type": "code",
   "metadata": {
    "id": "GGXai5PD8LU2",
    "ExecuteTime": {
     "end_time": "2025-10-15T16:41:06.050290Z",
     "start_time": "2025-10-15T16:41:05.995183Z"
    }
   },
   "source": "data = pd.read_parquet(\"../data/01_table.parquet\")",
   "outputs": [],
   "execution_count": 52
  },
  {
   "cell_type": "markdown",
   "metadata": {
    "id": "AFkLpIdp7Q75"
   },
   "source": [
    "Get some information regarding the database"
   ]
  },
  {
   "cell_type": "code",
   "metadata": {
    "colab": {
     "base_uri": "https://localhost:8080/"
    },
    "id": "s9mYIPQJFad_",
    "outputId": "2760889b-b600-41ac-d3b1-06febd96e4d7",
    "ExecuteTime": {
     "end_time": "2025-10-15T16:41:06.058248Z",
     "start_time": "2025-10-15T16:41:06.056375Z"
    }
   },
   "source": [
    "data.shape"
   ],
   "outputs": [
    {
     "data": {
      "text/plain": [
       "(963419, 7)"
      ]
     },
     "execution_count": 53,
     "metadata": {},
     "output_type": "execute_result"
    }
   ],
   "execution_count": 53
  },
  {
   "cell_type": "code",
   "metadata": {
    "colab": {
     "base_uri": "https://localhost:8080/"
    },
    "id": "IqVI6kKCiKTz",
    "outputId": "d8e23642-9876-496c-c14d-ff1b1f2c16df",
    "ExecuteTime": {
     "end_time": "2025-10-15T16:41:06.127579Z",
     "start_time": "2025-10-15T16:41:06.068843Z"
    }
   },
   "source": [
    "data.info()"
   ],
   "outputs": [
    {
     "name": "stdout",
     "output_type": "stream",
     "text": [
      "<class 'pandas.core.frame.DataFrame'>\n",
      "RangeIndex: 963419 entries, 0 to 963418\n",
      "Data columns (total 7 columns):\n",
      " #   Column                                                                             Non-Null Count   Dtype \n",
      "---  ------                                                                             --------------   ----- \n",
      " 0   Secció censal/Sección censal/Census section                                        962324 non-null  object\n",
      " 1   Districte/Distrito/District                                                        962324 non-null  object\n",
      " 2   Municipi/Municipio/Municipality                                                    963419 non-null  object\n",
      " 3   Data/Fecha/Date                                                                    963419 non-null  object\n",
      " 4   Ús/Uso/Use                                                                         963419 non-null  object\n",
      " 5   Nombre de comptadors/Número de contadores/Number of meters                         963419 non-null  int64 \n",
      " 6   Consum acumulat (L/dia)/Consumo acumulado (L/día)/Accumulated consumption (L/day)  963419 non-null  int64 \n",
      "dtypes: int64(2), object(5)\n",
      "memory usage: 51.5+ MB\n"
     ]
    }
   ],
   "execution_count": 54
  },
  {
   "cell_type": "code",
   "metadata": {
    "colab": {
     "base_uri": "https://localhost:8080/",
     "height": 296
    },
    "id": "TNupyX_S_S9g",
    "outputId": "3b26338e-dc24-4c5d-b663-151478d90951",
    "ExecuteTime": {
     "end_time": "2025-10-15T16:41:06.141067Z",
     "start_time": "2025-10-15T16:41:06.137908Z"
    }
   },
   "source": [
    "data.head()"
   ],
   "outputs": [
    {
     "data": {
      "text/plain": [
       "  Secció censal/Sección censal/Census section Districte/Distrito/District  \\\n",
       "0                                   801901001                           1   \n",
       "1                                   801901001                           1   \n",
       "2                                   801901001                           1   \n",
       "3                                   801901001                           1   \n",
       "4                                   801901001                           1   \n",
       "\n",
       "  Municipi/Municipio/Municipality Data/Fecha/Date  \\\n",
       "0                       BARCELONA      2023-01-01   \n",
       "1                       BARCELONA      2023-01-01   \n",
       "2                       BARCELONA      2023-01-01   \n",
       "3                       BARCELONA      2023-01-02   \n",
       "4                       BARCELONA      2023-01-02   \n",
       "\n",
       "                         Ús/Uso/Use  \\\n",
       "0    Comercial/Comercial/Commercial   \n",
       "1       Domèstic/Doméstico/Domestic   \n",
       "2  Industrial/Industrial/Industrial   \n",
       "3    Comercial/Comercial/Commercial   \n",
       "4       Domèstic/Doméstico/Domestic   \n",
       "\n",
       "   Nombre de comptadors/Número de contadores/Number of meters  \\\n",
       "0                                                 64            \n",
       "1                                                395            \n",
       "2                                                 20            \n",
       "3                                                 64            \n",
       "4                                                395            \n",
       "\n",
       "   Consum acumulat (L/dia)/Consumo acumulado (L/día)/Accumulated consumption (L/day)  \n",
       "0                                              14258                                  \n",
       "1                                              11089                                  \n",
       "2                                             490360                                  \n",
       "3                                               6780                                  \n",
       "4                                              11571                                  "
      ],
      "text/html": [
       "<div>\n",
       "<style scoped>\n",
       "    .dataframe tbody tr th:only-of-type {\n",
       "        vertical-align: middle;\n",
       "    }\n",
       "\n",
       "    .dataframe tbody tr th {\n",
       "        vertical-align: top;\n",
       "    }\n",
       "\n",
       "    .dataframe thead th {\n",
       "        text-align: right;\n",
       "    }\n",
       "</style>\n",
       "<table border=\"1\" class=\"dataframe\">\n",
       "  <thead>\n",
       "    <tr style=\"text-align: right;\">\n",
       "      <th></th>\n",
       "      <th>Secció censal/Sección censal/Census section</th>\n",
       "      <th>Districte/Distrito/District</th>\n",
       "      <th>Municipi/Municipio/Municipality</th>\n",
       "      <th>Data/Fecha/Date</th>\n",
       "      <th>Ús/Uso/Use</th>\n",
       "      <th>Nombre de comptadors/Número de contadores/Number of meters</th>\n",
       "      <th>Consum acumulat (L/dia)/Consumo acumulado (L/día)/Accumulated consumption (L/day)</th>\n",
       "    </tr>\n",
       "  </thead>\n",
       "  <tbody>\n",
       "    <tr>\n",
       "      <th>0</th>\n",
       "      <td>801901001</td>\n",
       "      <td>1</td>\n",
       "      <td>BARCELONA</td>\n",
       "      <td>2023-01-01</td>\n",
       "      <td>Comercial/Comercial/Commercial</td>\n",
       "      <td>64</td>\n",
       "      <td>14258</td>\n",
       "    </tr>\n",
       "    <tr>\n",
       "      <th>1</th>\n",
       "      <td>801901001</td>\n",
       "      <td>1</td>\n",
       "      <td>BARCELONA</td>\n",
       "      <td>2023-01-01</td>\n",
       "      <td>Domèstic/Doméstico/Domestic</td>\n",
       "      <td>395</td>\n",
       "      <td>11089</td>\n",
       "    </tr>\n",
       "    <tr>\n",
       "      <th>2</th>\n",
       "      <td>801901001</td>\n",
       "      <td>1</td>\n",
       "      <td>BARCELONA</td>\n",
       "      <td>2023-01-01</td>\n",
       "      <td>Industrial/Industrial/Industrial</td>\n",
       "      <td>20</td>\n",
       "      <td>490360</td>\n",
       "    </tr>\n",
       "    <tr>\n",
       "      <th>3</th>\n",
       "      <td>801901001</td>\n",
       "      <td>1</td>\n",
       "      <td>BARCELONA</td>\n",
       "      <td>2023-01-02</td>\n",
       "      <td>Comercial/Comercial/Commercial</td>\n",
       "      <td>64</td>\n",
       "      <td>6780</td>\n",
       "    </tr>\n",
       "    <tr>\n",
       "      <th>4</th>\n",
       "      <td>801901001</td>\n",
       "      <td>1</td>\n",
       "      <td>BARCELONA</td>\n",
       "      <td>2023-01-02</td>\n",
       "      <td>Domèstic/Doméstico/Domestic</td>\n",
       "      <td>395</td>\n",
       "      <td>11571</td>\n",
       "    </tr>\n",
       "  </tbody>\n",
       "</table>\n",
       "</div>"
      ]
     },
     "execution_count": 55,
     "metadata": {},
     "output_type": "execute_result"
    }
   ],
   "execution_count": 55
  },
  {
   "cell_type": "code",
   "metadata": {
    "colab": {
     "base_uri": "https://localhost:8080/",
     "height": 484
    },
    "id": "ml_W-zfP7pzC",
    "outputId": "5ba90fbf-fc3c-4963-f794-b9eaf053fa21",
    "ExecuteTime": {
     "end_time": "2025-10-15T16:41:06.303461Z",
     "start_time": "2025-10-15T16:41:06.160571Z"
    }
   },
   "source": [
    "data.describe(include='all')"
   ],
   "outputs": [
    {
     "data": {
      "text/plain": [
       "       Secció censal/Sección censal/Census section  \\\n",
       "count                                       962324   \n",
       "unique                                        1075   \n",
       "top                                      801901001   \n",
       "freq                                          1095   \n",
       "mean                                           NaN   \n",
       "std                                            NaN   \n",
       "min                                            NaN   \n",
       "25%                                            NaN   \n",
       "50%                                            NaN   \n",
       "75%                                            NaN   \n",
       "max                                            NaN   \n",
       "\n",
       "       Districte/Distrito/District Municipi/Municipio/Municipality  \\\n",
       "count                       962324                          963419   \n",
       "unique                          13                               1   \n",
       "top                              2                       BARCELONA   \n",
       "freq                        162450                          963419   \n",
       "mean                           NaN                             NaN   \n",
       "std                            NaN                             NaN   \n",
       "min                            NaN                             NaN   \n",
       "25%                            NaN                             NaN   \n",
       "50%                            NaN                             NaN   \n",
       "75%                            NaN                             NaN   \n",
       "max                            NaN                             NaN   \n",
       "\n",
       "       Data/Fecha/Date                   Ús/Uso/Use  \\\n",
       "count           963419                       963419   \n",
       "unique             365                            3   \n",
       "top         2023-12-31  Domèstic/Doméstico/Domestic   \n",
       "freq              2680                       392307   \n",
       "mean               NaN                          NaN   \n",
       "std                NaN                          NaN   \n",
       "min                NaN                          NaN   \n",
       "25%                NaN                          NaN   \n",
       "50%                NaN                          NaN   \n",
       "75%                NaN                          NaN   \n",
       "max                NaN                          NaN   \n",
       "\n",
       "        Nombre de comptadors/Número de contadores/Number of meters  \\\n",
       "count                                       963419.000000            \n",
       "unique                                                NaN            \n",
       "top                                                   NaN            \n",
       "freq                                                  NaN            \n",
       "mean                                           252.194256            \n",
       "std                                            283.118277            \n",
       "min                                              2.000000            \n",
       "25%                                             25.000000            \n",
       "50%                                             70.000000            \n",
       "75%                                            493.000000            \n",
       "max                                           2917.000000            \n",
       "\n",
       "        Consum acumulat (L/dia)/Consumo acumulado (L/día)/Accumulated consumption (L/day)  \n",
       "count                                        9.634190e+05                                  \n",
       "unique                                                NaN                                  \n",
       "top                                                   NaN                                  \n",
       "freq                                                  NaN                                  \n",
       "mean                                         2.374084e+04                                  \n",
       "std                                          2.261520e+05                                  \n",
       "min                                         -1.642869e+06                                  \n",
       "25%                                          3.832000e+03                                  \n",
       "50%                                          8.079000e+03                                  \n",
       "75%                                          1.503100e+04                                  \n",
       "max                                          1.693004e+07                                  "
      ],
      "text/html": [
       "<div>\n",
       "<style scoped>\n",
       "    .dataframe tbody tr th:only-of-type {\n",
       "        vertical-align: middle;\n",
       "    }\n",
       "\n",
       "    .dataframe tbody tr th {\n",
       "        vertical-align: top;\n",
       "    }\n",
       "\n",
       "    .dataframe thead th {\n",
       "        text-align: right;\n",
       "    }\n",
       "</style>\n",
       "<table border=\"1\" class=\"dataframe\">\n",
       "  <thead>\n",
       "    <tr style=\"text-align: right;\">\n",
       "      <th></th>\n",
       "      <th>Secció censal/Sección censal/Census section</th>\n",
       "      <th>Districte/Distrito/District</th>\n",
       "      <th>Municipi/Municipio/Municipality</th>\n",
       "      <th>Data/Fecha/Date</th>\n",
       "      <th>Ús/Uso/Use</th>\n",
       "      <th>Nombre de comptadors/Número de contadores/Number of meters</th>\n",
       "      <th>Consum acumulat (L/dia)/Consumo acumulado (L/día)/Accumulated consumption (L/day)</th>\n",
       "    </tr>\n",
       "  </thead>\n",
       "  <tbody>\n",
       "    <tr>\n",
       "      <th>count</th>\n",
       "      <td>962324</td>\n",
       "      <td>962324</td>\n",
       "      <td>963419</td>\n",
       "      <td>963419</td>\n",
       "      <td>963419</td>\n",
       "      <td>963419.000000</td>\n",
       "      <td>9.634190e+05</td>\n",
       "    </tr>\n",
       "    <tr>\n",
       "      <th>unique</th>\n",
       "      <td>1075</td>\n",
       "      <td>13</td>\n",
       "      <td>1</td>\n",
       "      <td>365</td>\n",
       "      <td>3</td>\n",
       "      <td>NaN</td>\n",
       "      <td>NaN</td>\n",
       "    </tr>\n",
       "    <tr>\n",
       "      <th>top</th>\n",
       "      <td>801901001</td>\n",
       "      <td>2</td>\n",
       "      <td>BARCELONA</td>\n",
       "      <td>2023-12-31</td>\n",
       "      <td>Domèstic/Doméstico/Domestic</td>\n",
       "      <td>NaN</td>\n",
       "      <td>NaN</td>\n",
       "    </tr>\n",
       "    <tr>\n",
       "      <th>freq</th>\n",
       "      <td>1095</td>\n",
       "      <td>162450</td>\n",
       "      <td>963419</td>\n",
       "      <td>2680</td>\n",
       "      <td>392307</td>\n",
       "      <td>NaN</td>\n",
       "      <td>NaN</td>\n",
       "    </tr>\n",
       "    <tr>\n",
       "      <th>mean</th>\n",
       "      <td>NaN</td>\n",
       "      <td>NaN</td>\n",
       "      <td>NaN</td>\n",
       "      <td>NaN</td>\n",
       "      <td>NaN</td>\n",
       "      <td>252.194256</td>\n",
       "      <td>2.374084e+04</td>\n",
       "    </tr>\n",
       "    <tr>\n",
       "      <th>std</th>\n",
       "      <td>NaN</td>\n",
       "      <td>NaN</td>\n",
       "      <td>NaN</td>\n",
       "      <td>NaN</td>\n",
       "      <td>NaN</td>\n",
       "      <td>283.118277</td>\n",
       "      <td>2.261520e+05</td>\n",
       "    </tr>\n",
       "    <tr>\n",
       "      <th>min</th>\n",
       "      <td>NaN</td>\n",
       "      <td>NaN</td>\n",
       "      <td>NaN</td>\n",
       "      <td>NaN</td>\n",
       "      <td>NaN</td>\n",
       "      <td>2.000000</td>\n",
       "      <td>-1.642869e+06</td>\n",
       "    </tr>\n",
       "    <tr>\n",
       "      <th>25%</th>\n",
       "      <td>NaN</td>\n",
       "      <td>NaN</td>\n",
       "      <td>NaN</td>\n",
       "      <td>NaN</td>\n",
       "      <td>NaN</td>\n",
       "      <td>25.000000</td>\n",
       "      <td>3.832000e+03</td>\n",
       "    </tr>\n",
       "    <tr>\n",
       "      <th>50%</th>\n",
       "      <td>NaN</td>\n",
       "      <td>NaN</td>\n",
       "      <td>NaN</td>\n",
       "      <td>NaN</td>\n",
       "      <td>NaN</td>\n",
       "      <td>70.000000</td>\n",
       "      <td>8.079000e+03</td>\n",
       "    </tr>\n",
       "    <tr>\n",
       "      <th>75%</th>\n",
       "      <td>NaN</td>\n",
       "      <td>NaN</td>\n",
       "      <td>NaN</td>\n",
       "      <td>NaN</td>\n",
       "      <td>NaN</td>\n",
       "      <td>493.000000</td>\n",
       "      <td>1.503100e+04</td>\n",
       "    </tr>\n",
       "    <tr>\n",
       "      <th>max</th>\n",
       "      <td>NaN</td>\n",
       "      <td>NaN</td>\n",
       "      <td>NaN</td>\n",
       "      <td>NaN</td>\n",
       "      <td>NaN</td>\n",
       "      <td>2917.000000</td>\n",
       "      <td>1.693004e+07</td>\n",
       "    </tr>\n",
       "  </tbody>\n",
       "</table>\n",
       "</div>"
      ]
     },
     "execution_count": 56,
     "metadata": {},
     "output_type": "execute_result"
    }
   ],
   "execution_count": 56
  },
  {
   "cell_type": "markdown",
   "metadata": {
    "id": "4BERg7bT87kq"
   },
   "source": [
    "Rename the columns so we don´t have any errors with formatting"
   ]
  },
  {
   "cell_type": "code",
   "metadata": {
    "id": "od3OgBTw83gR",
    "ExecuteTime": {
     "end_time": "2025-10-15T16:41:06.330210Z",
     "start_time": "2025-10-15T16:41:06.328053Z"
    }
   },
   "source": [
    "data.columns = ['Seccio_censal', 'Districte', 'Municipi', 'Data', 'Tipus_us', 'Numero_de_comptadors', 'Consum_litres_per_dia' ]"
   ],
   "outputs": [],
   "execution_count": 57
  },
  {
   "cell_type": "markdown",
   "metadata": {
    "id": "5P0XjkBe-HHw"
   },
   "source": [
    "Clean null values"
   ]
  },
  {
   "cell_type": "code",
   "metadata": {
    "id": "bIOcAnDD-Uy7",
    "ExecuteTime": {
     "end_time": "2025-10-15T16:41:06.435391Z",
     "start_time": "2025-10-15T16:41:06.357812Z"
    }
   },
   "source": [
    "data = data.dropna()"
   ],
   "outputs": [],
   "execution_count": 58
  },
  {
   "cell_type": "markdown",
   "metadata": {
    "id": "Ga4uMEQZ_81-"
   },
   "source": [
    "Convert columns to correct type"
   ]
  },
  {
   "cell_type": "code",
   "metadata": {
    "colab": {
     "base_uri": "https://localhost:8080/",
     "height": 382
    },
    "id": "V9Ou1A8F_9Ql",
    "outputId": "2262d570-6f90-43fe-90d3-1af4217c4ae5",
    "ExecuteTime": {
     "end_time": "2025-10-15T16:41:06.556450Z",
     "start_time": "2025-10-15T16:41:06.439251Z"
    }
   },
   "source": [
    "data['Seccio_censal'] = data['Seccio_censal'].astype('Int64')   # nullable integer\n",
    "data['Districte'] = data['Districte'].astype('Int64')\n",
    "data['Numero_de_comptadors'] = data['Numero_de_comptadors'].astype('Int64')\n",
    "\n",
    "data.loc[:, 'Data'] = pd.to_datetime(data['Data'], errors='coerce')\n",
    "data.loc[:, 'Seccio_censal'] = pd.to_numeric(data['Seccio_censal'], errors='coerce')\n",
    "data.loc[:, 'Districte'] = pd.to_numeric(data['Districte'], errors='coerce')\n",
    "data.loc[:, 'Numero_de_comptadors'] = pd.to_numeric(data['Numero_de_comptadors'], errors='coerce')\n",
    "data.loc[:, 'Consum_litres_per_dia'] = pd.to_numeric(data['Consum_litres_per_dia'], errors='coerce')\n",
    "data.loc[:, 'Municipi'] = data['Municipi'].astype(str)\n",
    "data.loc[:, 'Tipus_us'] = data['Tipus_us'].astype(str)\n",
    "\n",
    "\n"
   ],
   "outputs": [
    {
     "ename": "ValueError",
     "evalue": "invalid literal for int() with base 10: '<NULL>'",
     "output_type": "error",
     "traceback": [
      "\u001B[31m---------------------------------------------------------------------------\u001B[39m",
      "\u001B[31mValueError\u001B[39m                                Traceback (most recent call last)",
      "\u001B[36mCell\u001B[39m\u001B[36m \u001B[39m\u001B[32mIn[59]\u001B[39m\u001B[32m, line 1\u001B[39m\n\u001B[32m----> \u001B[39m\u001B[32m1\u001B[39m data[\u001B[33m'\u001B[39m\u001B[33mSeccio_censal\u001B[39m\u001B[33m'\u001B[39m] = \u001B[43mdata\u001B[49m\u001B[43m[\u001B[49m\u001B[33;43m'\u001B[39;49m\u001B[33;43mSeccio_censal\u001B[39;49m\u001B[33;43m'\u001B[39;49m\u001B[43m]\u001B[49m\u001B[43m.\u001B[49m\u001B[43mastype\u001B[49m\u001B[43m(\u001B[49m\u001B[33;43m'\u001B[39;49m\u001B[33;43mInt64\u001B[39;49m\u001B[33;43m'\u001B[39;49m\u001B[43m)\u001B[49m   \u001B[38;5;66;03m# nullable integer\u001B[39;00m\n\u001B[32m      2\u001B[39m data[\u001B[33m'\u001B[39m\u001B[33mDistricte\u001B[39m\u001B[33m'\u001B[39m] = data[\u001B[33m'\u001B[39m\u001B[33mDistricte\u001B[39m\u001B[33m'\u001B[39m].astype(\u001B[33m'\u001B[39m\u001B[33mInt64\u001B[39m\u001B[33m'\u001B[39m)\n\u001B[32m      3\u001B[39m data[\u001B[33m'\u001B[39m\u001B[33mNumero_de_comptadors\u001B[39m\u001B[33m'\u001B[39m] = data[\u001B[33m'\u001B[39m\u001B[33mNumero_de_comptadors\u001B[39m\u001B[33m'\u001B[39m].astype(\u001B[33m'\u001B[39m\u001B[33mInt64\u001B[39m\u001B[33m'\u001B[39m)\n",
      "\u001B[36mFile \u001B[39m\u001B[32m~/coda/tools/mindsdbpb/venv/lib/python3.12/site-packages/pandas/core/generic.py:6637\u001B[39m, in \u001B[36mNDFrame.astype\u001B[39m\u001B[34m(self, dtype, copy, errors)\u001B[39m\n\u001B[32m   6631\u001B[39m     results = [\n\u001B[32m   6632\u001B[39m         ser.astype(dtype, copy=copy, errors=errors) \u001B[38;5;28;01mfor\u001B[39;00m _, ser \u001B[38;5;129;01min\u001B[39;00m \u001B[38;5;28mself\u001B[39m.items()\n\u001B[32m   6633\u001B[39m     ]\n\u001B[32m   6635\u001B[39m \u001B[38;5;28;01melse\u001B[39;00m:\n\u001B[32m   6636\u001B[39m     \u001B[38;5;66;03m# else, only a single dtype is given\u001B[39;00m\n\u001B[32m-> \u001B[39m\u001B[32m6637\u001B[39m     new_data = \u001B[38;5;28;43mself\u001B[39;49m\u001B[43m.\u001B[49m\u001B[43m_mgr\u001B[49m\u001B[43m.\u001B[49m\u001B[43mastype\u001B[49m\u001B[43m(\u001B[49m\u001B[43mdtype\u001B[49m\u001B[43m=\u001B[49m\u001B[43mdtype\u001B[49m\u001B[43m,\u001B[49m\u001B[43m \u001B[49m\u001B[43mcopy\u001B[49m\u001B[43m=\u001B[49m\u001B[43mcopy\u001B[49m\u001B[43m,\u001B[49m\u001B[43m \u001B[49m\u001B[43merrors\u001B[49m\u001B[43m=\u001B[49m\u001B[43merrors\u001B[49m\u001B[43m)\u001B[49m\n\u001B[32m   6638\u001B[39m     res = \u001B[38;5;28mself\u001B[39m._constructor_from_mgr(new_data, axes=new_data.axes)\n\u001B[32m   6639\u001B[39m     \u001B[38;5;28;01mreturn\u001B[39;00m res.__finalize__(\u001B[38;5;28mself\u001B[39m, method=\u001B[33m\"\u001B[39m\u001B[33mastype\u001B[39m\u001B[33m\"\u001B[39m)\n",
      "\u001B[36mFile \u001B[39m\u001B[32m~/coda/tools/mindsdbpb/venv/lib/python3.12/site-packages/pandas/core/internals/managers.py:431\u001B[39m, in \u001B[36mBaseBlockManager.astype\u001B[39m\u001B[34m(self, dtype, copy, errors)\u001B[39m\n\u001B[32m    428\u001B[39m \u001B[38;5;28;01melif\u001B[39;00m using_copy_on_write():\n\u001B[32m    429\u001B[39m     copy = \u001B[38;5;28;01mFalse\u001B[39;00m\n\u001B[32m--> \u001B[39m\u001B[32m431\u001B[39m \u001B[38;5;28;01mreturn\u001B[39;00m \u001B[38;5;28;43mself\u001B[39;49m\u001B[43m.\u001B[49m\u001B[43mapply\u001B[49m\u001B[43m(\u001B[49m\n\u001B[32m    432\u001B[39m \u001B[43m    \u001B[49m\u001B[33;43m\"\u001B[39;49m\u001B[33;43mastype\u001B[39;49m\u001B[33;43m\"\u001B[39;49m\u001B[43m,\u001B[49m\n\u001B[32m    433\u001B[39m \u001B[43m    \u001B[49m\u001B[43mdtype\u001B[49m\u001B[43m=\u001B[49m\u001B[43mdtype\u001B[49m\u001B[43m,\u001B[49m\n\u001B[32m    434\u001B[39m \u001B[43m    \u001B[49m\u001B[43mcopy\u001B[49m\u001B[43m=\u001B[49m\u001B[43mcopy\u001B[49m\u001B[43m,\u001B[49m\n\u001B[32m    435\u001B[39m \u001B[43m    \u001B[49m\u001B[43merrors\u001B[49m\u001B[43m=\u001B[49m\u001B[43merrors\u001B[49m\u001B[43m,\u001B[49m\n\u001B[32m    436\u001B[39m \u001B[43m    \u001B[49m\u001B[43musing_cow\u001B[49m\u001B[43m=\u001B[49m\u001B[43musing_copy_on_write\u001B[49m\u001B[43m(\u001B[49m\u001B[43m)\u001B[49m\u001B[43m,\u001B[49m\n\u001B[32m    437\u001B[39m \u001B[43m\u001B[49m\u001B[43m)\u001B[49m\n",
      "\u001B[36mFile \u001B[39m\u001B[32m~/coda/tools/mindsdbpb/venv/lib/python3.12/site-packages/pandas/core/internals/managers.py:364\u001B[39m, in \u001B[36mBaseBlockManager.apply\u001B[39m\u001B[34m(self, f, align_keys, **kwargs)\u001B[39m\n\u001B[32m    362\u001B[39m         applied = b.apply(f, **kwargs)\n\u001B[32m    363\u001B[39m     \u001B[38;5;28;01melse\u001B[39;00m:\n\u001B[32m--> \u001B[39m\u001B[32m364\u001B[39m         applied = \u001B[38;5;28;43mgetattr\u001B[39;49m\u001B[43m(\u001B[49m\u001B[43mb\u001B[49m\u001B[43m,\u001B[49m\u001B[43m \u001B[49m\u001B[43mf\u001B[49m\u001B[43m)\u001B[49m\u001B[43m(\u001B[49m\u001B[43m*\u001B[49m\u001B[43m*\u001B[49m\u001B[43mkwargs\u001B[49m\u001B[43m)\u001B[49m\n\u001B[32m    365\u001B[39m     result_blocks = extend_blocks(applied, result_blocks)\n\u001B[32m    367\u001B[39m out = \u001B[38;5;28mtype\u001B[39m(\u001B[38;5;28mself\u001B[39m).from_blocks(result_blocks, \u001B[38;5;28mself\u001B[39m.axes)\n",
      "\u001B[36mFile \u001B[39m\u001B[32m~/coda/tools/mindsdbpb/venv/lib/python3.12/site-packages/pandas/core/internals/blocks.py:758\u001B[39m, in \u001B[36mBlock.astype\u001B[39m\u001B[34m(self, dtype, copy, errors, using_cow, squeeze)\u001B[39m\n\u001B[32m    755\u001B[39m         \u001B[38;5;28;01mraise\u001B[39;00m \u001B[38;5;167;01mValueError\u001B[39;00m(\u001B[33m\"\u001B[39m\u001B[33mCan not squeeze with more than one column.\u001B[39m\u001B[33m\"\u001B[39m)\n\u001B[32m    756\u001B[39m     values = values[\u001B[32m0\u001B[39m, :]  \u001B[38;5;66;03m# type: ignore[call-overload]\u001B[39;00m\n\u001B[32m--> \u001B[39m\u001B[32m758\u001B[39m new_values = \u001B[43mastype_array_safe\u001B[49m\u001B[43m(\u001B[49m\u001B[43mvalues\u001B[49m\u001B[43m,\u001B[49m\u001B[43m \u001B[49m\u001B[43mdtype\u001B[49m\u001B[43m,\u001B[49m\u001B[43m \u001B[49m\u001B[43mcopy\u001B[49m\u001B[43m=\u001B[49m\u001B[43mcopy\u001B[49m\u001B[43m,\u001B[49m\u001B[43m \u001B[49m\u001B[43merrors\u001B[49m\u001B[43m=\u001B[49m\u001B[43merrors\u001B[49m\u001B[43m)\u001B[49m\n\u001B[32m    760\u001B[39m new_values = maybe_coerce_values(new_values)\n\u001B[32m    762\u001B[39m refs = \u001B[38;5;28;01mNone\u001B[39;00m\n",
      "\u001B[36mFile \u001B[39m\u001B[32m~/coda/tools/mindsdbpb/venv/lib/python3.12/site-packages/pandas/core/dtypes/astype.py:237\u001B[39m, in \u001B[36mastype_array_safe\u001B[39m\u001B[34m(values, dtype, copy, errors)\u001B[39m\n\u001B[32m    234\u001B[39m     dtype = dtype.numpy_dtype\n\u001B[32m    236\u001B[39m \u001B[38;5;28;01mtry\u001B[39;00m:\n\u001B[32m--> \u001B[39m\u001B[32m237\u001B[39m     new_values = \u001B[43mastype_array\u001B[49m\u001B[43m(\u001B[49m\u001B[43mvalues\u001B[49m\u001B[43m,\u001B[49m\u001B[43m \u001B[49m\u001B[43mdtype\u001B[49m\u001B[43m,\u001B[49m\u001B[43m \u001B[49m\u001B[43mcopy\u001B[49m\u001B[43m=\u001B[49m\u001B[43mcopy\u001B[49m\u001B[43m)\u001B[49m\n\u001B[32m    238\u001B[39m \u001B[38;5;28;01mexcept\u001B[39;00m (\u001B[38;5;167;01mValueError\u001B[39;00m, \u001B[38;5;167;01mTypeError\u001B[39;00m):\n\u001B[32m    239\u001B[39m     \u001B[38;5;66;03m# e.g. _astype_nansafe can fail on object-dtype of strings\u001B[39;00m\n\u001B[32m    240\u001B[39m     \u001B[38;5;66;03m#  trying to convert to float\u001B[39;00m\n\u001B[32m    241\u001B[39m     \u001B[38;5;28;01mif\u001B[39;00m errors == \u001B[33m\"\u001B[39m\u001B[33mignore\u001B[39m\u001B[33m\"\u001B[39m:\n",
      "\u001B[36mFile \u001B[39m\u001B[32m~/coda/tools/mindsdbpb/venv/lib/python3.12/site-packages/pandas/core/dtypes/astype.py:182\u001B[39m, in \u001B[36mastype_array\u001B[39m\u001B[34m(values, dtype, copy)\u001B[39m\n\u001B[32m    179\u001B[39m     values = values.astype(dtype, copy=copy)\n\u001B[32m    181\u001B[39m \u001B[38;5;28;01melse\u001B[39;00m:\n\u001B[32m--> \u001B[39m\u001B[32m182\u001B[39m     values = \u001B[43m_astype_nansafe\u001B[49m\u001B[43m(\u001B[49m\u001B[43mvalues\u001B[49m\u001B[43m,\u001B[49m\u001B[43m \u001B[49m\u001B[43mdtype\u001B[49m\u001B[43m,\u001B[49m\u001B[43m \u001B[49m\u001B[43mcopy\u001B[49m\u001B[43m=\u001B[49m\u001B[43mcopy\u001B[49m\u001B[43m)\u001B[49m\n\u001B[32m    184\u001B[39m \u001B[38;5;66;03m# in pandas we don't store numpy str dtypes, so convert to object\u001B[39;00m\n\u001B[32m    185\u001B[39m \u001B[38;5;28;01mif\u001B[39;00m \u001B[38;5;28misinstance\u001B[39m(dtype, np.dtype) \u001B[38;5;129;01mand\u001B[39;00m \u001B[38;5;28missubclass\u001B[39m(values.dtype.type, \u001B[38;5;28mstr\u001B[39m):\n",
      "\u001B[36mFile \u001B[39m\u001B[32m~/coda/tools/mindsdbpb/venv/lib/python3.12/site-packages/pandas/core/dtypes/astype.py:80\u001B[39m, in \u001B[36m_astype_nansafe\u001B[39m\u001B[34m(arr, dtype, copy, skipna)\u001B[39m\n\u001B[32m     78\u001B[39m \u001B[38;5;66;03m# dispatch on extension dtype if needed\u001B[39;00m\n\u001B[32m     79\u001B[39m \u001B[38;5;28;01mif\u001B[39;00m \u001B[38;5;28misinstance\u001B[39m(dtype, ExtensionDtype):\n\u001B[32m---> \u001B[39m\u001B[32m80\u001B[39m     \u001B[38;5;28;01mreturn\u001B[39;00m \u001B[43mdtype\u001B[49m\u001B[43m.\u001B[49m\u001B[43mconstruct_array_type\u001B[49m\u001B[43m(\u001B[49m\u001B[43m)\u001B[49m\u001B[43m.\u001B[49m\u001B[43m_from_sequence\u001B[49m\u001B[43m(\u001B[49m\u001B[43marr\u001B[49m\u001B[43m,\u001B[49m\u001B[43m \u001B[49m\u001B[43mdtype\u001B[49m\u001B[43m=\u001B[49m\u001B[43mdtype\u001B[49m\u001B[43m,\u001B[49m\u001B[43m \u001B[49m\u001B[43mcopy\u001B[49m\u001B[43m=\u001B[49m\u001B[43mcopy\u001B[49m\u001B[43m)\u001B[49m\n\u001B[32m     82\u001B[39m \u001B[38;5;28;01melif\u001B[39;00m \u001B[38;5;129;01mnot\u001B[39;00m \u001B[38;5;28misinstance\u001B[39m(dtype, np.dtype):  \u001B[38;5;66;03m# pragma: no cover\u001B[39;00m\n\u001B[32m     83\u001B[39m     \u001B[38;5;28;01mraise\u001B[39;00m \u001B[38;5;167;01mValueError\u001B[39;00m(\u001B[33m\"\u001B[39m\u001B[33mdtype must be np.dtype or ExtensionDtype\u001B[39m\u001B[33m\"\u001B[39m)\n",
      "\u001B[36mFile \u001B[39m\u001B[32m~/coda/tools/mindsdbpb/venv/lib/python3.12/site-packages/pandas/core/arrays/masked.py:152\u001B[39m, in \u001B[36mBaseMaskedArray._from_sequence\u001B[39m\u001B[34m(cls, scalars, dtype, copy)\u001B[39m\n\u001B[32m    150\u001B[39m \u001B[38;5;129m@classmethod\u001B[39m\n\u001B[32m    151\u001B[39m \u001B[38;5;28;01mdef\u001B[39;00m\u001B[38;5;250m \u001B[39m\u001B[34m_from_sequence\u001B[39m(\u001B[38;5;28mcls\u001B[39m, scalars, *, dtype=\u001B[38;5;28;01mNone\u001B[39;00m, copy: \u001B[38;5;28mbool\u001B[39m = \u001B[38;5;28;01mFalse\u001B[39;00m) -> Self:\n\u001B[32m--> \u001B[39m\u001B[32m152\u001B[39m     values, mask = \u001B[38;5;28;43mcls\u001B[39;49m\u001B[43m.\u001B[49m\u001B[43m_coerce_to_array\u001B[49m\u001B[43m(\u001B[49m\u001B[43mscalars\u001B[49m\u001B[43m,\u001B[49m\u001B[43m \u001B[49m\u001B[43mdtype\u001B[49m\u001B[43m=\u001B[49m\u001B[43mdtype\u001B[49m\u001B[43m,\u001B[49m\u001B[43m \u001B[49m\u001B[43mcopy\u001B[49m\u001B[43m=\u001B[49m\u001B[43mcopy\u001B[49m\u001B[43m)\u001B[49m\n\u001B[32m    153\u001B[39m     \u001B[38;5;28;01mreturn\u001B[39;00m \u001B[38;5;28mcls\u001B[39m(values, mask)\n",
      "\u001B[36mFile \u001B[39m\u001B[32m~/coda/tools/mindsdbpb/venv/lib/python3.12/site-packages/pandas/core/arrays/numeric.py:266\u001B[39m, in \u001B[36mNumericArray._coerce_to_array\u001B[39m\u001B[34m(cls, value, dtype, copy)\u001B[39m\n\u001B[32m    264\u001B[39m dtype_cls = \u001B[38;5;28mcls\u001B[39m._dtype_cls\n\u001B[32m    265\u001B[39m default_dtype = dtype_cls._default_np_dtype\n\u001B[32m--> \u001B[39m\u001B[32m266\u001B[39m values, mask, _, _ = \u001B[43m_coerce_to_data_and_mask\u001B[49m\u001B[43m(\u001B[49m\n\u001B[32m    267\u001B[39m \u001B[43m    \u001B[49m\u001B[43mvalue\u001B[49m\u001B[43m,\u001B[49m\u001B[43m \u001B[49m\u001B[43mdtype\u001B[49m\u001B[43m,\u001B[49m\u001B[43m \u001B[49m\u001B[43mcopy\u001B[49m\u001B[43m,\u001B[49m\u001B[43m \u001B[49m\u001B[43mdtype_cls\u001B[49m\u001B[43m,\u001B[49m\u001B[43m \u001B[49m\u001B[43mdefault_dtype\u001B[49m\n\u001B[32m    268\u001B[39m \u001B[43m\u001B[49m\u001B[43m)\u001B[49m\n\u001B[32m    269\u001B[39m \u001B[38;5;28;01mreturn\u001B[39;00m values, mask\n",
      "\u001B[36mFile \u001B[39m\u001B[32m~/coda/tools/mindsdbpb/venv/lib/python3.12/site-packages/pandas/core/arrays/numeric.py:221\u001B[39m, in \u001B[36m_coerce_to_data_and_mask\u001B[39m\u001B[34m(values, dtype, copy, dtype_cls, default_dtype)\u001B[39m\n\u001B[32m    217\u001B[39m     values[mask] = \u001B[38;5;28mcls\u001B[39m._internal_fill_value\n\u001B[32m    218\u001B[39m \u001B[38;5;28;01mif\u001B[39;00m inferred_type \u001B[38;5;129;01min\u001B[39;00m (\u001B[33m\"\u001B[39m\u001B[33mstring\u001B[39m\u001B[33m\"\u001B[39m, \u001B[33m\"\u001B[39m\u001B[33municode\u001B[39m\u001B[33m\"\u001B[39m):\n\u001B[32m    219\u001B[39m     \u001B[38;5;66;03m# casts from str are always safe since they raise\u001B[39;00m\n\u001B[32m    220\u001B[39m     \u001B[38;5;66;03m# a ValueError if the str cannot be parsed into a float\u001B[39;00m\n\u001B[32m--> \u001B[39m\u001B[32m221\u001B[39m     values = \u001B[43mvalues\u001B[49m\u001B[43m.\u001B[49m\u001B[43mastype\u001B[49m\u001B[43m(\u001B[49m\u001B[43mdtype\u001B[49m\u001B[43m,\u001B[49m\u001B[43m \u001B[49m\u001B[43mcopy\u001B[49m\u001B[43m=\u001B[49m\u001B[43mcopy\u001B[49m\u001B[43m)\u001B[49m\n\u001B[32m    222\u001B[39m \u001B[38;5;28;01melse\u001B[39;00m:\n\u001B[32m    223\u001B[39m     values = dtype_cls._safe_cast(values, dtype, copy=\u001B[38;5;28;01mFalse\u001B[39;00m)\n",
      "\u001B[31mValueError\u001B[39m: invalid literal for int() with base 10: '<NULL>'"
     ]
    }
   ],
   "execution_count": 59
  },
  {
   "cell_type": "markdown",
   "metadata": {
    "id": "vvdNxN1j-s-Y"
   },
   "source": [
    "The \"tipus_us\" column has values in 3 languages, put them in catalan"
   ]
  },
  {
   "cell_type": "code",
   "metadata": {
    "id": "5b-WezHe-9-A"
   },
   "source": [
    "data['Tipus_us'] = data['Tipus_us'].str.split('/').str[-1].str.strip().str.lower()"
   ],
   "outputs": [],
   "execution_count": null
  },
  {
   "cell_type": "markdown",
   "metadata": {
    "id": "kmHcBqubBdOS"
   },
   "source": [
    "Remove rows with negative or unrealistic consumption:"
   ]
  },
  {
   "cell_type": "code",
   "metadata": {
    "id": "LAB2T79bB5ty"
   },
   "source": [
    "data = data[data['Consum_litres_per_dia'] > 0]"
   ],
   "outputs": [],
   "execution_count": null
  },
  {
   "cell_type": "markdown",
   "metadata": {
    "id": "H1quoNerCwzv"
   },
   "source": [
    "Remove duplicates"
   ]
  },
  {
   "cell_type": "code",
   "metadata": {
    "id": "EaNg7CRIDNdq"
   },
   "source": [
    "data = data.drop_duplicates()"
   ],
   "outputs": [],
   "execution_count": null
  },
  {
   "cell_type": "markdown",
   "metadata": {
    "id": "yoweVi1nHLTn"
   },
   "source": [
    "Fix inconsistent categories"
   ]
  },
  {
   "cell_type": "code",
   "metadata": {
    "id": "561Wpma_HKtD"
   },
   "source": [
    "data['Municipi'] = data['Municipi'].str.strip().str.upper()\n",
    "data['Tipus_us'] = data['Tipus_us'].str.strip().str.capitalize()"
   ],
   "outputs": [],
   "execution_count": null
  },
  {
   "cell_type": "markdown",
   "metadata": {
    "id": "3gE2Ms78Jj6Z"
   },
   "source": [
    "Check values have the right format"
   ]
  },
  {
   "cell_type": "code",
   "metadata": {
    "colab": {
     "base_uri": "https://localhost:8080/",
     "height": 293
    },
    "id": "6znZFUsuHwSe",
    "outputId": "0de51466-6a82-49f2-c72b-84650ce298d9"
   },
   "source": [
    "data.tail()"
   ],
   "outputs": [],
   "execution_count": null
  },
  {
   "cell_type": "code",
   "metadata": {
    "id": "2DVIrB3IXigc"
   },
   "source": [],
   "outputs": [],
   "execution_count": null
  },
  {
   "cell_type": "markdown",
   "metadata": {
    "id": "9-jUJkBOPnU_"
   },
   "source": [
    "Values have now the right format and null values are removed"
   ]
  },
  {
   "cell_type": "markdown",
   "metadata": {
    "id": "7ckud3_OUsYF"
   },
   "source": [
    "Create multiple tables per Tipus_us and and Districte"
   ]
  },
  {
   "cell_type": "code",
   "metadata": {
    "ExecuteTime": {
     "end_time": "2025-10-15T16:41:06.564412Z",
     "start_time": "2025-10-15T15:31:23.259518Z"
    }
   },
   "source": [
    "import os"
   ],
   "outputs": [],
   "execution_count": 35
  },
  {
   "cell_type": "code",
   "metadata": {
    "ExecuteTime": {
     "end_time": "2025-10-15T16:41:06.564578Z",
     "start_time": "2025-10-15T15:31:24.550138Z"
    }
   },
   "source": [
    "output_dir = \"tablas_pequenas\"\n",
    "os.makedirs(output_dir, exist_ok=True)"
   ],
   "outputs": [],
   "execution_count": 36
  },
  {
   "cell_type": "code",
   "metadata": {
    "id": "mCXXTQhNVcKN",
    "ExecuteTime": {
     "end_time": "2025-10-15T16:41:06.564702Z",
     "start_time": "2025-10-15T15:32:01.307207Z"
    }
   },
   "source": [
    "tables = {}\n",
    "\n",
    "for (district, tipus), group in data.groupby(['Districte', 'Tipus_us']):\n",
    "    group = group.reset_index(drop=True)\n",
    "    key = f\"D{district}_{tipus}\"\n",
    "    tables[key] = group\n",
    "\n",
    "\n",
    "for key, table in tables.items():\n",
    "    table.to_csv(f\"{key}.csv\", index=False)"
   ],
   "outputs": [
    {
     "ename": "OSError",
     "evalue": "Cannot save file into a non-existent directory: 'D03_Industrial/Industrial'",
     "output_type": "error",
     "traceback": [
      "\u001B[31m---------------------------------------------------------------------------\u001B[39m",
      "\u001B[31mOSError\u001B[39m                                   Traceback (most recent call last)",
      "\u001B[36mCell\u001B[39m\u001B[36m \u001B[39m\u001B[32mIn[38]\u001B[39m\u001B[32m, line 10\u001B[39m\n\u001B[32m      6\u001B[39m     tables[key] = group\n\u001B[32m      9\u001B[39m \u001B[38;5;28;01mfor\u001B[39;00m key, table \u001B[38;5;129;01min\u001B[39;00m tables.items():\n\u001B[32m---> \u001B[39m\u001B[32m10\u001B[39m     \u001B[43mtable\u001B[49m\u001B[43m.\u001B[49m\u001B[43mto_csv\u001B[49m\u001B[43m(\u001B[49m\u001B[33;43mf\u001B[39;49m\u001B[33;43m\"\u001B[39;49m\u001B[38;5;132;43;01m{\u001B[39;49;00m\u001B[43mkey\u001B[49m\u001B[38;5;132;43;01m}\u001B[39;49;00m\u001B[33;43m.csv\u001B[39;49m\u001B[33;43m\"\u001B[39;49m\u001B[43m,\u001B[49m\u001B[43m \u001B[49m\u001B[43mindex\u001B[49m\u001B[43m=\u001B[49m\u001B[38;5;28;43;01mFalse\u001B[39;49;00m\u001B[43m)\u001B[49m\n",
      "\u001B[36mFile \u001B[39m\u001B[32m~/coda/tools/mindsdbpb/venv/lib/python3.12/site-packages/pandas/util/_decorators.py:333\u001B[39m, in \u001B[36mdeprecate_nonkeyword_arguments.<locals>.decorate.<locals>.wrapper\u001B[39m\u001B[34m(*args, **kwargs)\u001B[39m\n\u001B[32m    327\u001B[39m \u001B[38;5;28;01mif\u001B[39;00m \u001B[38;5;28mlen\u001B[39m(args) > num_allow_args:\n\u001B[32m    328\u001B[39m     warnings.warn(\n\u001B[32m    329\u001B[39m         msg.format(arguments=_format_argument_list(allow_args)),\n\u001B[32m    330\u001B[39m         \u001B[38;5;167;01mFutureWarning\u001B[39;00m,\n\u001B[32m    331\u001B[39m         stacklevel=find_stack_level(),\n\u001B[32m    332\u001B[39m     )\n\u001B[32m--> \u001B[39m\u001B[32m333\u001B[39m \u001B[38;5;28;01mreturn\u001B[39;00m \u001B[43mfunc\u001B[49m\u001B[43m(\u001B[49m\u001B[43m*\u001B[49m\u001B[43margs\u001B[49m\u001B[43m,\u001B[49m\u001B[43m \u001B[49m\u001B[43m*\u001B[49m\u001B[43m*\u001B[49m\u001B[43mkwargs\u001B[49m\u001B[43m)\u001B[49m\n",
      "\u001B[36mFile \u001B[39m\u001B[32m~/coda/tools/mindsdbpb/venv/lib/python3.12/site-packages/pandas/core/generic.py:3961\u001B[39m, in \u001B[36mNDFrame.to_csv\u001B[39m\u001B[34m(self, path_or_buf, sep, na_rep, float_format, columns, header, index, index_label, mode, encoding, compression, quoting, quotechar, lineterminator, chunksize, date_format, doublequote, escapechar, decimal, errors, storage_options)\u001B[39m\n\u001B[32m   3950\u001B[39m df = \u001B[38;5;28mself\u001B[39m \u001B[38;5;28;01mif\u001B[39;00m \u001B[38;5;28misinstance\u001B[39m(\u001B[38;5;28mself\u001B[39m, ABCDataFrame) \u001B[38;5;28;01melse\u001B[39;00m \u001B[38;5;28mself\u001B[39m.to_frame()\n\u001B[32m   3952\u001B[39m formatter = DataFrameFormatter(\n\u001B[32m   3953\u001B[39m     frame=df,\n\u001B[32m   3954\u001B[39m     header=header,\n\u001B[32m   (...)\u001B[39m\u001B[32m   3958\u001B[39m     decimal=decimal,\n\u001B[32m   3959\u001B[39m )\n\u001B[32m-> \u001B[39m\u001B[32m3961\u001B[39m \u001B[38;5;28;01mreturn\u001B[39;00m \u001B[43mDataFrameRenderer\u001B[49m\u001B[43m(\u001B[49m\u001B[43mformatter\u001B[49m\u001B[43m)\u001B[49m\u001B[43m.\u001B[49m\u001B[43mto_csv\u001B[49m\u001B[43m(\u001B[49m\n\u001B[32m   3962\u001B[39m \u001B[43m    \u001B[49m\u001B[43mpath_or_buf\u001B[49m\u001B[43m,\u001B[49m\n\u001B[32m   3963\u001B[39m \u001B[43m    \u001B[49m\u001B[43mlineterminator\u001B[49m\u001B[43m=\u001B[49m\u001B[43mlineterminator\u001B[49m\u001B[43m,\u001B[49m\n\u001B[32m   3964\u001B[39m \u001B[43m    \u001B[49m\u001B[43msep\u001B[49m\u001B[43m=\u001B[49m\u001B[43msep\u001B[49m\u001B[43m,\u001B[49m\n\u001B[32m   3965\u001B[39m \u001B[43m    \u001B[49m\u001B[43mencoding\u001B[49m\u001B[43m=\u001B[49m\u001B[43mencoding\u001B[49m\u001B[43m,\u001B[49m\n\u001B[32m   3966\u001B[39m \u001B[43m    \u001B[49m\u001B[43merrors\u001B[49m\u001B[43m=\u001B[49m\u001B[43merrors\u001B[49m\u001B[43m,\u001B[49m\n\u001B[32m   3967\u001B[39m \u001B[43m    \u001B[49m\u001B[43mcompression\u001B[49m\u001B[43m=\u001B[49m\u001B[43mcompression\u001B[49m\u001B[43m,\u001B[49m\n\u001B[32m   3968\u001B[39m \u001B[43m    \u001B[49m\u001B[43mquoting\u001B[49m\u001B[43m=\u001B[49m\u001B[43mquoting\u001B[49m\u001B[43m,\u001B[49m\n\u001B[32m   3969\u001B[39m \u001B[43m    \u001B[49m\u001B[43mcolumns\u001B[49m\u001B[43m=\u001B[49m\u001B[43mcolumns\u001B[49m\u001B[43m,\u001B[49m\n\u001B[32m   3970\u001B[39m \u001B[43m    \u001B[49m\u001B[43mindex_label\u001B[49m\u001B[43m=\u001B[49m\u001B[43mindex_label\u001B[49m\u001B[43m,\u001B[49m\n\u001B[32m   3971\u001B[39m \u001B[43m    \u001B[49m\u001B[43mmode\u001B[49m\u001B[43m=\u001B[49m\u001B[43mmode\u001B[49m\u001B[43m,\u001B[49m\n\u001B[32m   3972\u001B[39m \u001B[43m    \u001B[49m\u001B[43mchunksize\u001B[49m\u001B[43m=\u001B[49m\u001B[43mchunksize\u001B[49m\u001B[43m,\u001B[49m\n\u001B[32m   3973\u001B[39m \u001B[43m    \u001B[49m\u001B[43mquotechar\u001B[49m\u001B[43m=\u001B[49m\u001B[43mquotechar\u001B[49m\u001B[43m,\u001B[49m\n\u001B[32m   3974\u001B[39m \u001B[43m    \u001B[49m\u001B[43mdate_format\u001B[49m\u001B[43m=\u001B[49m\u001B[43mdate_format\u001B[49m\u001B[43m,\u001B[49m\n\u001B[32m   3975\u001B[39m \u001B[43m    \u001B[49m\u001B[43mdoublequote\u001B[49m\u001B[43m=\u001B[49m\u001B[43mdoublequote\u001B[49m\u001B[43m,\u001B[49m\n\u001B[32m   3976\u001B[39m \u001B[43m    \u001B[49m\u001B[43mescapechar\u001B[49m\u001B[43m=\u001B[49m\u001B[43mescapechar\u001B[49m\u001B[43m,\u001B[49m\n\u001B[32m   3977\u001B[39m \u001B[43m    \u001B[49m\u001B[43mstorage_options\u001B[49m\u001B[43m=\u001B[49m\u001B[43mstorage_options\u001B[49m\u001B[43m,\u001B[49m\n\u001B[32m   3978\u001B[39m \u001B[43m\u001B[49m\u001B[43m)\u001B[49m\n",
      "\u001B[36mFile \u001B[39m\u001B[32m~/coda/tools/mindsdbpb/venv/lib/python3.12/site-packages/pandas/io/formats/format.py:1014\u001B[39m, in \u001B[36mDataFrameRenderer.to_csv\u001B[39m\u001B[34m(self, path_or_buf, encoding, sep, columns, index_label, mode, compression, quoting, quotechar, lineterminator, chunksize, date_format, doublequote, escapechar, errors, storage_options)\u001B[39m\n\u001B[32m    993\u001B[39m     created_buffer = \u001B[38;5;28;01mFalse\u001B[39;00m\n\u001B[32m    995\u001B[39m csv_formatter = CSVFormatter(\n\u001B[32m    996\u001B[39m     path_or_buf=path_or_buf,\n\u001B[32m    997\u001B[39m     lineterminator=lineterminator,\n\u001B[32m   (...)\u001B[39m\u001B[32m   1012\u001B[39m     formatter=\u001B[38;5;28mself\u001B[39m.fmt,\n\u001B[32m   1013\u001B[39m )\n\u001B[32m-> \u001B[39m\u001B[32m1014\u001B[39m \u001B[43mcsv_formatter\u001B[49m\u001B[43m.\u001B[49m\u001B[43msave\u001B[49m\u001B[43m(\u001B[49m\u001B[43m)\u001B[49m\n\u001B[32m   1016\u001B[39m \u001B[38;5;28;01mif\u001B[39;00m created_buffer:\n\u001B[32m   1017\u001B[39m     \u001B[38;5;28;01massert\u001B[39;00m \u001B[38;5;28misinstance\u001B[39m(path_or_buf, StringIO)\n",
      "\u001B[36mFile \u001B[39m\u001B[32m~/coda/tools/mindsdbpb/venv/lib/python3.12/site-packages/pandas/io/formats/csvs.py:251\u001B[39m, in \u001B[36mCSVFormatter.save\u001B[39m\u001B[34m(self)\u001B[39m\n\u001B[32m    247\u001B[39m \u001B[38;5;250m\u001B[39m\u001B[33;03m\"\"\"\u001B[39;00m\n\u001B[32m    248\u001B[39m \u001B[33;03mCreate the writer & save.\u001B[39;00m\n\u001B[32m    249\u001B[39m \u001B[33;03m\"\"\"\u001B[39;00m\n\u001B[32m    250\u001B[39m \u001B[38;5;66;03m# apply compression and byte/text conversion\u001B[39;00m\n\u001B[32m--> \u001B[39m\u001B[32m251\u001B[39m \u001B[38;5;28;01mwith\u001B[39;00m \u001B[43mget_handle\u001B[49m\u001B[43m(\u001B[49m\n\u001B[32m    252\u001B[39m \u001B[43m    \u001B[49m\u001B[38;5;28;43mself\u001B[39;49m\u001B[43m.\u001B[49m\u001B[43mfilepath_or_buffer\u001B[49m\u001B[43m,\u001B[49m\n\u001B[32m    253\u001B[39m \u001B[43m    \u001B[49m\u001B[38;5;28;43mself\u001B[39;49m\u001B[43m.\u001B[49m\u001B[43mmode\u001B[49m\u001B[43m,\u001B[49m\n\u001B[32m    254\u001B[39m \u001B[43m    \u001B[49m\u001B[43mencoding\u001B[49m\u001B[43m=\u001B[49m\u001B[38;5;28;43mself\u001B[39;49m\u001B[43m.\u001B[49m\u001B[43mencoding\u001B[49m\u001B[43m,\u001B[49m\n\u001B[32m    255\u001B[39m \u001B[43m    \u001B[49m\u001B[43merrors\u001B[49m\u001B[43m=\u001B[49m\u001B[38;5;28;43mself\u001B[39;49m\u001B[43m.\u001B[49m\u001B[43merrors\u001B[49m\u001B[43m,\u001B[49m\n\u001B[32m    256\u001B[39m \u001B[43m    \u001B[49m\u001B[43mcompression\u001B[49m\u001B[43m=\u001B[49m\u001B[38;5;28;43mself\u001B[39;49m\u001B[43m.\u001B[49m\u001B[43mcompression\u001B[49m\u001B[43m,\u001B[49m\n\u001B[32m    257\u001B[39m \u001B[43m    \u001B[49m\u001B[43mstorage_options\u001B[49m\u001B[43m=\u001B[49m\u001B[38;5;28;43mself\u001B[39;49m\u001B[43m.\u001B[49m\u001B[43mstorage_options\u001B[49m\u001B[43m,\u001B[49m\n\u001B[32m    258\u001B[39m \u001B[43m\u001B[49m\u001B[43m)\u001B[49m \u001B[38;5;28;01mas\u001B[39;00m handles:\n\u001B[32m    259\u001B[39m     \u001B[38;5;66;03m# Note: self.encoding is irrelevant here\u001B[39;00m\n\u001B[32m    260\u001B[39m     \u001B[38;5;28mself\u001B[39m.writer = csvlib.writer(\n\u001B[32m    261\u001B[39m         handles.handle,\n\u001B[32m    262\u001B[39m         lineterminator=\u001B[38;5;28mself\u001B[39m.lineterminator,\n\u001B[32m   (...)\u001B[39m\u001B[32m    267\u001B[39m         quotechar=\u001B[38;5;28mself\u001B[39m.quotechar,\n\u001B[32m    268\u001B[39m     )\n\u001B[32m    270\u001B[39m     \u001B[38;5;28mself\u001B[39m._save()\n",
      "\u001B[36mFile \u001B[39m\u001B[32m~/coda/tools/mindsdbpb/venv/lib/python3.12/site-packages/pandas/io/common.py:749\u001B[39m, in \u001B[36mget_handle\u001B[39m\u001B[34m(path_or_buf, mode, encoding, compression, memory_map, is_text, errors, storage_options)\u001B[39m\n\u001B[32m    747\u001B[39m \u001B[38;5;66;03m# Only for write methods\u001B[39;00m\n\u001B[32m    748\u001B[39m \u001B[38;5;28;01mif\u001B[39;00m \u001B[33m\"\u001B[39m\u001B[33mr\u001B[39m\u001B[33m\"\u001B[39m \u001B[38;5;129;01mnot\u001B[39;00m \u001B[38;5;129;01min\u001B[39;00m mode \u001B[38;5;129;01mand\u001B[39;00m is_path:\n\u001B[32m--> \u001B[39m\u001B[32m749\u001B[39m     \u001B[43mcheck_parent_directory\u001B[49m\u001B[43m(\u001B[49m\u001B[38;5;28;43mstr\u001B[39;49m\u001B[43m(\u001B[49m\u001B[43mhandle\u001B[49m\u001B[43m)\u001B[49m\u001B[43m)\u001B[49m\n\u001B[32m    751\u001B[39m \u001B[38;5;28;01mif\u001B[39;00m compression:\n\u001B[32m    752\u001B[39m     \u001B[38;5;28;01mif\u001B[39;00m compression != \u001B[33m\"\u001B[39m\u001B[33mzstd\u001B[39m\u001B[33m\"\u001B[39m:\n\u001B[32m    753\u001B[39m         \u001B[38;5;66;03m# compression libraries do not like an explicit text-mode\u001B[39;00m\n",
      "\u001B[36mFile \u001B[39m\u001B[32m~/coda/tools/mindsdbpb/venv/lib/python3.12/site-packages/pandas/io/common.py:616\u001B[39m, in \u001B[36mcheck_parent_directory\u001B[39m\u001B[34m(path)\u001B[39m\n\u001B[32m    614\u001B[39m parent = Path(path).parent\n\u001B[32m    615\u001B[39m \u001B[38;5;28;01mif\u001B[39;00m \u001B[38;5;129;01mnot\u001B[39;00m parent.is_dir():\n\u001B[32m--> \u001B[39m\u001B[32m616\u001B[39m     \u001B[38;5;28;01mraise\u001B[39;00m \u001B[38;5;167;01mOSError\u001B[39;00m(\u001B[33mrf\u001B[39m\u001B[33m\"\u001B[39m\u001B[33mCannot save file into a non-existent directory: \u001B[39m\u001B[33m'\u001B[39m\u001B[38;5;132;01m{\u001B[39;00mparent\u001B[38;5;132;01m}\u001B[39;00m\u001B[33m'\u001B[39m\u001B[33m\"\u001B[39m)\n",
      "\u001B[31mOSError\u001B[39m: Cannot save file into a non-existent directory: 'D03_Industrial/Industrial'"
     ]
    }
   ],
   "execution_count": 38
  },
  {
   "cell_type": "markdown",
   "metadata": {},
   "source": []
  },
  {
   "cell_type": "code",
   "metadata": {
    "ExecuteTime": {
     "end_time": "2025-10-15T16:41:06.564895Z",
     "start_time": "2025-10-15T16:38:57.200515Z"
    }
   },
   "source": [
    "for key, table in tables.items():\n",
    "    # Reemplaza espacios o caracteres especiales en el nombre del archivo\n",
    "    filename = f\"{key.replace(' ', '_').replace('/', '-')}.csv\"\n",
    "    filepath = os.path.join(output_dir, filename)\n",
    "    table.to_csv(filepath, index=False, encoding='utf-8')"
   ],
   "outputs": [],
   "execution_count": 50
  },
  {
   "cell_type": "code",
   "metadata": {
    "colab": {
     "base_uri": "https://localhost:8080/",
     "height": 1000
    },
    "id": "xmFAuS-eUrYK",
    "outputId": "87665003-9164-4ffb-8c4b-09b71144e96a"
   },
   "source": [
    "for key, table in tables.items():\n",
    "    table['Data'] = pd.to_datetime(table['Data'], errors='coerce')\n",
    "    table = table.sort_values('Data')  # sort by date\n",
    "\n",
    "    plt.figure(figsize=(10,4))\n",
    "    plt.plot(table['Data'], table['Consum_litres_per_dia'], marker='o', linestyle='-', markersize=4)\n",
    "    plt.title(f\"Daily Consumption over Time - {key}\")\n",
    "    plt.xlabel(\"Date\")\n",
    "    plt.ylabel(\"Consum litres per day\")\n",
    "    plt.xticks(rotation=45)\n",
    "    plt.tight_layout()\n",
    "    plt.show()"
   ],
   "outputs": [],
   "execution_count": null
  },
  {
   "metadata": {},
   "cell_type": "code",
   "source": "",
   "outputs": [],
   "execution_count": null
  }
 ],
 "metadata": {
  "accelerator": "GPU",
  "colab": {
   "gpuType": "T4",
   "provenance": []
  },
  "kernelspec": {
   "display_name": "Python 3 (ipykernel)",
   "name": "python3",
   "language": "python"
  },
  "language_info": {
   "name": "python"
  }
 },
 "nbformat": 4,
 "nbformat_minor": 0
}
