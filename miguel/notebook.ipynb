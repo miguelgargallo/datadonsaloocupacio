{
 "cells": [
  {
   "metadata": {},
   "cell_type": "code",
   "outputs": [],
   "execution_count": null,
   "source": "",
   "id": "a7fe2e63aa984d08"
  }
 ],
 "metadata": {},
 "nbformat": 4,
 "nbformat_minor": 5
}
