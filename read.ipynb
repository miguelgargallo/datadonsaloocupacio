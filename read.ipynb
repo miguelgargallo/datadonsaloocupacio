{
 "cells": [
  {
   "metadata": {},
   "cell_type": "code",
   "outputs": [],
   "execution_count": null,
   "source": "",
   "id": "d4d30562ed8fd754"
  }
 ],
 "metadata": {},
 "nbformat": 4,
 "nbformat_minor": 5
}
